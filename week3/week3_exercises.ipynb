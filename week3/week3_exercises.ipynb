{
 "cells": [
  {
   "cell_type": "markdown",
   "metadata": {},
   "source": [
    "# QBio REU Intermediate Python\n",
    "\n",
    "## Week 3 Exercises: Numpy Random, Indexing, and Matplotlib Histograms"
   ]
  },
  {
   "cell_type": "markdown",
   "metadata": {},
   "source": [
    "### Exercise 1\n",
    "\n",
    "- Load the attached file `week3_data.csv.` \n",
    "- Compute the mean and standard deviation of the data.\n",
    "- Make a histogram of the data. Then on the same axes, plot a normal distribution with the mean and standard deviation that you calculated. Do you think the mean and standard deviation do a good job describing this dataset?\n",
    "- You should find that the single normal distribution does not do a great job describing the data because there are really two underlying clusters. Using boolean indexing, split the dataset into two subsets that roughly separates out the two clusters. (There are algorithmic ways of doing this but thats not the point here, just eyeball it. I'm happy to talk about clustering/classification algorithms in office hours if you're interested)\n",
    "- Compute the mean and standard deviation of each subset separately. \n",
    "- Then make a plot showing the data as a histogram where the subsets are colored differently. Overlay two normal distributions computed using the mean and standard deviation of each subset. "
   ]
  },
  {
   "cell_type": "code",
   "execution_count": 8,
   "metadata": {},
   "outputs": [],
   "source": [
    "def normal_dist(x, mean, std):\n",
    "    return (1./np.sqrt(2*np.pi*std**2))*np.exp(-(x-mean)**2/(2*std**2))"
   ]
  },
  {
   "cell_type": "code",
   "execution_count": null,
   "metadata": {},
   "outputs": [],
   "source": []
  },
  {
   "cell_type": "markdown",
   "metadata": {},
   "source": [
    "### Exercise 2\n",
    "\n",
    "- Simulate 100 trajectories of 1000 steps each for a 1D biased random walk where each walker takes a step to the right (+1) with probability 0.65 and a step to the left (-1) with probability 0.35. *Hint* you can use `np.random.choice`. Check out the keyword argument `p` or read the documentation.\n",
    "- Make a histogram of the walkers positions at times 100, 500, and 1000.\n",
    "- Compute the mean and standard deviation of the walkers' positions as a function of time and plot them. Can you come up with a formula for the mean as a function of time in terms of $p_{R}$ and $p_L$ the probabilities of going right and left? Check your formula by plotting it along with your computed mean as a function of time.\n",
    "\n",
    "\n"
   ]
  },
  {
   "cell_type": "code",
   "execution_count": null,
   "metadata": {},
   "outputs": [],
   "source": []
  }
 ],
 "metadata": {
  "kernelspec": {
   "display_name": "Python 3",
   "language": "python",
   "name": "python3"
  },
  "language_info": {
   "codemirror_mode": {
    "name": "ipython",
    "version": 3
   },
   "file_extension": ".py",
   "mimetype": "text/x-python",
   "name": "python",
   "nbconvert_exporter": "python",
   "pygments_lexer": "ipython3",
   "version": "3.7.4"
  }
 },
 "nbformat": 4,
 "nbformat_minor": 4
}
