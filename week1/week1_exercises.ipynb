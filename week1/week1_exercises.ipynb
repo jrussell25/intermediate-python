{
 "cells": [
  {
   "cell_type": "markdown",
   "metadata": {},
   "source": [
    "## Practice problems for week 1\n",
    "\n",
    "### 1. Matrix multiplication\n",
    "\n",
    "In linear algebra if $A$ is an $M\\times N$ matrix ($M$ rows and $N$ columns), we can multiply it by a vector $\\bf{x}$ of length $N$ to get another vector $\\bf{b}$ that is of length $M.$ We would write\n",
    "\n",
    "$$ A\\bf{x} = \\bf{b}.$$\n",
    "\n",
    "The formula for matrix multiplication is:\n",
    "\n",
    "$$ b_i = \\sum_{j=1}^{N} A_{i,j} x_j$$\n",
    "\n",
    "where $b_i$ is the $i$th element of the vector $b$ and $A_{i,j}$ is the element of $A$ that is in the $i$th row and $j$th column. Given the matrix $A$ represented below as a list of lists and the vector $x$ represented as a list. Write a function that takes $A$ and $x$ as arguments and computes $b$.\n",
    "\n",
    "**Disclaimer**: Never do matrix multiplication this way in real life! This is precisely the type of thing `numpy` is highly optimized for. This is only here to practice working with lists. "
   ]
  },
  {
   "cell_type": "code",
   "execution_count": null,
   "metadata": {},
   "outputs": [],
   "source": [
    "A = [[0,2,4,8,1],[0,2,1,6,7],[0,2,1,3,9],[1,0,2,8,2], [8,1,6,5,7]]\n",
    "x = [1, 2, 1, 3, 1]"
   ]
  },
  {
   "cell_type": "code",
   "execution_count": null,
   "metadata": {},
   "outputs": [],
   "source": [
    "b = []\n",
    "#your code to compute b here"
   ]
  },
  {
   "cell_type": "markdown",
   "metadata": {},
   "source": [
    "### 2. Dictionary practice \n",
    "\n",
    "Below I load a dictionary where the keys are the name of movies in the marvel cinematic universe (circa 2017) and the values are the names of the first five actors in the movie. "
   ]
  },
  {
   "cell_type": "code",
   "execution_count": null,
   "metadata": {},
   "outputs": [],
   "source": [
    "import numpy as np\n",
    "#sorry to use numpy here but were just loading a file\n",
    "marvel_movies = np.load(\"marvel_movies.npy\", allow_pickle=True).item() "
   ]
  },
  {
   "cell_type": "code",
   "execution_count": null,
   "metadata": {},
   "outputs": [],
   "source": [
    "marvel_movies.keys()"
   ]
  },
  {
   "cell_type": "code",
   "execution_count": null,
   "metadata": {},
   "outputs": [],
   "source": [
    "marvel_movies[\"Iron Man\"]"
   ]
  },
  {
   "cell_type": "markdown",
   "metadata": {},
   "source": [
    "**Part a.** Create a list that contains the names of each unique actor in this franchise."
   ]
  },
  {
   "cell_type": "code",
   "execution_count": null,
   "metadata": {},
   "outputs": [],
   "source": [
    "unique_actors = []"
   ]
  },
  {
   "cell_type": "code",
   "execution_count": null,
   "metadata": {},
   "outputs": [],
   "source": []
  },
  {
   "cell_type": "markdown",
   "metadata": {},
   "source": [
    "**Part b.** Create a dictionary where the keys are each actors name and the values are the number of movies in which each actor has appeared. Who has appeared in the most movies?"
   ]
  },
  {
   "cell_type": "code",
   "execution_count": null,
   "metadata": {},
   "outputs": [],
   "source": [
    "appearances = {}"
   ]
  },
  {
   "cell_type": "markdown",
   "metadata": {},
   "source": [
    "**Part c.** Challenge\n",
    "\n",
    "- Create a dictionary that assignes a unique number starting at zero and counting up as needed. *Hint* A nifty, pythonic way of doing this would use the `unique_actors` list from the previous part and a function called `zip` which you can read about [here](https://docs.python.org/3.3/library/functions.html#zip).\n",
    "- Using that dictionary, create a matrix (list of lists or if you want to try it with an array go for it) where the value of the matrix element i,j is equal to 1 if actor i and actor j appear in any movie together and zero otherwise. Such a matrix is called an [Adjacency matrix](https://en.wikipedia.org/wiki/Adjacency_matrix) and has many very useful properties in the mathematical analysis of networks. *Note* Let's not include actors appearing in movies \"with themselves.\" In other words, the diagonal elements of this matrix should all be zeros."
   ]
  },
  {
   "cell_type": "code",
   "execution_count": null,
   "metadata": {},
   "outputs": [],
   "source": []
  },
  {
   "cell_type": "markdown",
   "metadata": {},
   "source": [
    "**Part d.** Even more of a challenge!\n",
    "\n",
    "- Building upn your code from exercise 1, write a function that performs matrix matrix multiplication. Let $C$ be the product of two matrices A and B where A is $M \\times N$ and B is $N \\times K$. Matrix multiplication can be written as\n",
    "\n",
    "$$ AB = C$$\n",
    "\n",
    "$$ C_{i,j} = \\sum_{n=1}^N A_{i,n}B_{n,j} $$\n",
    "\n",
    "- Check out the section on wikipedia about [power of the adjacency matrix](https://en.wikipedia.org/wiki/Adjacency_matrix#Matrix_powers). Multiply the matrix from part c. by itself six times and interpret the result. Do all the actors in this network obey the [six degreees of separation rule](https://en.wikipedia.org/wiki/Six_degrees_of_separation)? How could you tell? I would imagine that in this case it acutually takes fewer than 6 steps to connect any actors here. What is the fewest number of steps needed to connect all actors? "
   ]
  },
  {
   "cell_type": "code",
   "execution_count": null,
   "metadata": {},
   "outputs": [],
   "source": []
  }
 ],
 "metadata": {
  "kernelspec": {
   "display_name": "Python 3",
   "language": "python",
   "name": "python3"
  },
  "language_info": {
   "codemirror_mode": {
    "name": "ipython",
    "version": 3
   },
   "file_extension": ".py",
   "mimetype": "text/x-python",
   "name": "python",
   "nbconvert_exporter": "python",
   "pygments_lexer": "ipython3",
   "version": "3.7.4"
  }
 },
 "nbformat": 4,
 "nbformat_minor": 4
}
