{
 "cells": [
  {
   "cell_type": "markdown",
   "metadata": {},
   "source": [
    "## Practice problems for week 1\n",
    "\n",
    "### 1. Matrix multiplication\n",
    "\n",
    "In linear algebra if $A$ is an $M\\times N$ matrix ($M$ rows and $N$ columns), we can multiply it by a vector $\\bf{x}$ of length $N$ to get another vector $\\bf{b}$ that is of length $M.$ We would write\n",
    "\n",
    "$$ A\\bf{x} = \\bf{b}.$$\n",
    "\n",
    "The formula for matrix multiplication is:\n",
    "\n",
    "$$ b_i = \\sum_{j=1}^{N} A_{i,j} x_j$$\n",
    "\n",
    "where $b_i$ is the $i$th element of the vector $b$ and $A_{i,j}$ is the element of $A$ that is in the $i$th row and $j$th column. Given the matrix $A$ represented below as a list of lists and the vector $x$ represented as a list. Write a function that takes $A$ and $x$ as arguments and computes $b$.\n",
    "\n",
    "**Disclaimer**: Never do matrix multiplication this way in real life! This is precisely the type of thing `numpy` is highly optimized for. This is only here to practice working with lists. "
   ]
  },
  {
   "cell_type": "code",
   "execution_count": 7,
   "metadata": {},
   "outputs": [],
   "source": [
    "A = [[0,2,4,8,1],[0,2,1,6,7],[0,2,1,3,9],[1,0,2,8,2], [8,1,6,5,7]]\n",
    "x = [1, 2, 1, 3, 1]"
   ]
  },
  {
   "cell_type": "code",
   "execution_count": 8,
   "metadata": {},
   "outputs": [],
   "source": [
    "b = []\n",
    "#your code to compute b here"
   ]
  },
  {
   "cell_type": "code",
   "execution_count": 9,
   "metadata": {},
   "outputs": [],
   "source": [
    "def mat_vec(A,x):\n",
    "    b = len(A)*[0] #If this is confusing try it yourself to make sure you get \n",
    "                   #whats going on. This is a nice way to initiliaze lists. \n",
    "    for i in range(len(A)):\n",
    "        for j in range(len(A[i])):\n",
    "            b[i] += A[i][j]*x[j]\n",
    "    return b"
   ]
  },
  {
   "cell_type": "code",
   "execution_count": 10,
   "metadata": {},
   "outputs": [],
   "source": [
    "b = mat_vec(A,x)"
   ]
  },
  {
   "cell_type": "code",
   "execution_count": 11,
   "metadata": {},
   "outputs": [
    {
     "data": {
      "text/plain": [
       "[33, 30, 23, 29, 38]"
      ]
     },
     "execution_count": 11,
     "metadata": {},
     "output_type": "execute_result"
    }
   ],
   "source": [
    "b"
   ]
  },
  {
   "cell_type": "code",
   "execution_count": 12,
   "metadata": {},
   "outputs": [],
   "source": [
    "import numpy as np"
   ]
  },
  {
   "cell_type": "code",
   "execution_count": 16,
   "metadata": {},
   "outputs": [
    {
     "data": {
      "text/plain": [
       "array([33, 30, 23, 29, 38])"
      ]
     },
     "execution_count": 16,
     "metadata": {},
     "output_type": "execute_result"
    }
   ],
   "source": [
    "#Check the answer with numpy\n",
    "A_arr = np.array(A)\n",
    "x_arr = np.array(x)\n",
    "np.matmul(A_arr,x_arr)"
   ]
  },
  {
   "cell_type": "markdown",
   "metadata": {},
   "source": [
    "### 2. Dictionary practice \n",
    "\n",
    "Below I load a dictionary where the keys are the name of movies in the marvel cinematic universe (circa 2017) and the values are the names of the first five actors in the movie. "
   ]
  },
  {
   "cell_type": "code",
   "execution_count": 17,
   "metadata": {},
   "outputs": [],
   "source": [
    "import numpy as np\n",
    "#sorry to use numpy here but were just loading a file\n",
    "marvel_movies = np.load(\"marvel_movies.npy\", allow_pickle=True).item() "
   ]
  },
  {
   "cell_type": "code",
   "execution_count": 18,
   "metadata": {},
   "outputs": [
    {
     "data": {
      "text/plain": [
       "dict_keys(['Spider-Man 3', 'Avengers: Age of Ultron', 'The Avengers', 'The Amazing Spider-Man', 'Captain America: Civil War', 'Spider-Man 2', 'Iron Man 3', 'The Amazing Spider-Man 2', 'Iron Man', 'Iron Man 2', 'Captain America: The Winter Soldier', 'Thor: The Dark World', 'Thor', 'Spider-Man', 'Captain America: The First Avenger', 'Ant-Man'])"
      ]
     },
     "execution_count": 18,
     "metadata": {},
     "output_type": "execute_result"
    }
   ],
   "source": [
    "marvel_movies.keys()"
   ]
  },
  {
   "cell_type": "code",
   "execution_count": 19,
   "metadata": {},
   "outputs": [
    {
     "data": {
      "text/plain": [
       "['Robert Downey Jr.',\n",
       " 'Terrence Howard',\n",
       " 'Jeff Bridges',\n",
       " 'Shaun Toub',\n",
       " 'Gwyneth Paltrow']"
      ]
     },
     "execution_count": 19,
     "metadata": {},
     "output_type": "execute_result"
    }
   ],
   "source": [
    "marvel_movies[\"Iron Man\"]"
   ]
  },
  {
   "cell_type": "markdown",
   "metadata": {},
   "source": [
    "**Part a.** Create a list that contains the names of each unique actor in this franchise."
   ]
  },
  {
   "cell_type": "code",
   "execution_count": 20,
   "metadata": {},
   "outputs": [],
   "source": [
    "unique_actors = []\n",
    "for movie in marvel_movies:\n",
    "    for actor in marvel_movies[movie]:\n",
    "        if actor not in unique_actors:\n",
    "            unique_actors.append(actor)"
   ]
  },
  {
   "cell_type": "code",
   "execution_count": 22,
   "metadata": {},
   "outputs": [],
   "source": [
    "#unique_actors"
   ]
  },
  {
   "cell_type": "markdown",
   "metadata": {},
   "source": [
    "**Part b.** Create a dictionary where the keys are each actors name and the values are the number of movies in which each actor has appeared. Who has appeared in the most movies?"
   ]
  },
  {
   "cell_type": "code",
   "execution_count": 23,
   "metadata": {},
   "outputs": [],
   "source": [
    "appearances = {}\n",
    "for actor in unique_actors:\n",
    "    appearances[actor] = 0"
   ]
  },
  {
   "cell_type": "code",
   "execution_count": 24,
   "metadata": {},
   "outputs": [],
   "source": [
    "for movie in marvel_movies:\n",
    "    for actor in marvel_movies[movie]:\n",
    "        appearances[actor] += 1"
   ]
  },
  {
   "cell_type": "code",
   "execution_count": 29,
   "metadata": {},
   "outputs": [
    {
     "name": "stdout",
     "output_type": "stream",
     "text": [
      "Robert Downey Jr. appeared in 6 movies\n"
     ]
    }
   ],
   "source": [
    "max_appearances = 0\n",
    "max_actor = ''\n",
    "# This is handy for using dictionaries. items() works like enumerate\n",
    "# For each iteration, it returns the key and the value of the dict\n",
    "for actor, num in appearances.items():\n",
    "    if num > max_appearances:\n",
    "        max_actor = actor\n",
    "        max_appearances = num\n",
    "print(f\"{max_actor} appeared in {max_appearances} movies\")"
   ]
  },
  {
   "cell_type": "markdown",
   "metadata": {},
   "source": [
    "**Part c.** Challenge\n",
    "\n",
    "- Create a dictionary that assignes a unique number starting at zero and counting up as needed. *Hint* A nifty, pythonic way of doing this would use the `unique_actors` list from the previous part and a function called `zip` which you can read about [here](https://docs.python.org/3.3/library/functions.html#zip).\n",
    "- Using that dictionary, create a matrix (list of lists or if you want to try it with an array go for it) where the value of the matrix element i,j is equal to 1 if actor i and actor j appear in any movie together and zero otherwise. Such a matrix is called an [Adjacency matrix](https://en.wikipedia.org/wiki/Adjacency_matrix) and has many very useful properties in the mathematical analysis of networks. *Note* Let's not include actors appearing in movies \"with themselves.\" In other words, the diagonal elements of this matrix should all be zeros."
   ]
  },
  {
   "cell_type": "code",
   "execution_count": 30,
   "metadata": {},
   "outputs": [],
   "source": [
    "actor_codes = dict(zip(unique_actors,range(len(unique_actors))))"
   ]
  },
  {
   "cell_type": "code",
   "execution_count": 49,
   "metadata": {},
   "outputs": [
    {
     "data": {
      "text/plain": [
       "{'Tobey Maguire': 0,\n",
       " 'Kirsten Dunst': 1,\n",
       " 'James Franco': 2,\n",
       " 'Thomas Haden Church': 3,\n",
       " 'Topher Grace': 4,\n",
       " 'Robert Downey Jr.': 5,\n",
       " 'Chris Hemsworth': 6,\n",
       " 'Mark Ruffalo': 7,\n",
       " 'Chris Evans': 8,\n",
       " 'Scarlett Johansson': 9,\n",
       " 'Andrew Garfield': 10,\n",
       " 'Emma Stone': 11,\n",
       " 'Rhys Ifans': 12,\n",
       " 'Denis Leary': 13,\n",
       " 'Campbell Scott': 14,\n",
       " 'Sebastian Stan': 15,\n",
       " 'Anthony Mackie': 16,\n",
       " 'Alfred Molina': 17,\n",
       " 'Rosemary Harris': 18,\n",
       " 'Gwyneth Paltrow': 19,\n",
       " 'Don Cheadle': 20,\n",
       " 'Guy Pearce': 21,\n",
       " 'Rebecca Hall': 22,\n",
       " 'Jamie Foxx': 23,\n",
       " 'Dane DeHaan': 24,\n",
       " 'Terrence Howard': 25,\n",
       " 'Jeff Bridges': 26,\n",
       " 'Shaun Toub': 27,\n",
       " 'Mickey Rourke': 28,\n",
       " 'Samuel L. Jackson': 29,\n",
       " 'Robert Redford': 30,\n",
       " 'Natalie Portman': 31,\n",
       " 'Tom Hiddleston': 32,\n",
       " 'Anthony Hopkins': 33,\n",
       " 'Christopher Eccleston': 34,\n",
       " 'Stellan Skarsgård': 35,\n",
       " 'Willem Dafoe': 36,\n",
       " 'Cliff Robertson': 37,\n",
       " 'Hugo Weaving': 38,\n",
       " 'Tommy Lee Jones': 39,\n",
       " 'Hayley Atwell': 40,\n",
       " 'Paul Rudd': 41,\n",
       " 'Michael Douglas': 42,\n",
       " 'Evangeline Lilly': 43,\n",
       " 'Corey Stoll': 44,\n",
       " 'Bobby Cannavale': 45}"
      ]
     },
     "execution_count": 49,
     "metadata": {},
     "output_type": "execute_result"
    }
   ],
   "source": [
    "actor_codes"
   ]
  },
  {
   "cell_type": "code",
   "execution_count": 68,
   "metadata": {},
   "outputs": [],
   "source": [
    "adj_mat = [[0 for i in range(len(unique_actors))] for j in range(len(unique_actors))]"
   ]
  },
  {
   "cell_type": "code",
   "execution_count": 76,
   "metadata": {},
   "outputs": [],
   "source": [
    "for movie, cast in marvel_movies.items():\n",
    "#     if n > 1: break\n",
    "#     print(n)\n",
    "#     print(cast)\n",
    "    for i, actor1 in enumerate(cast):\n",
    "        ind1 = actor_codes[actor1]\n",
    "        for j, actor2 in enumerate(cast):\n",
    "            ind2 = actor_codes[actor2]\n",
    "            if i != j:\n",
    "                #print(ind1,ind2)\n",
    "                adj_mat[ind1][ind2] = 1"
   ]
  },
  {
   "cell_type": "code",
   "execution_count": 114,
   "metadata": {},
   "outputs": [],
   "source": [
    "# #an error like this really threw me for a loop when I was writing the solutions\n",
    "# #its complicated why exactly this happens but this is why you should\n",
    "# #always look at the solution to check for errors. Also once we get to numpy\n",
    "# #this sort of thing wont happen thank goodness.\n",
    "# mat = mat = 10*[10*[0]]\n",
    "# mat[0][5] = 1\n",
    "# np.array(mat)"
   ]
  },
  {
   "cell_type": "markdown",
   "metadata": {},
   "source": [
    "**Part d.** Even more of a challenge!\n",
    "\n",
    "- Building upn your code from exercise 1, write a function that performs matrix matrix multiplication. Let $C$ be the product of two matrices A and B where A is $M \\times N$ and B is $N \\times K$. Matrix multiplication can be written as\n",
    "\n",
    "$$ AB = C$$\n",
    "\n",
    "$$ C_{i,j} = \\sum_{n=1}^N A_{i,n}B_{n,j} $$\n",
    "\n",
    "- Check out the section on wikipedia about [power of the adjacency matrix](https://en.wikipedia.org/wiki/Adjacency_matrix#Matrix_powers). Multiply the matrix from part c. by itself six times and interpret the result. Do all the actors in this network obey the [six degreees of separation rule](https://en.wikipedia.org/wiki/Six_degrees_of_separation)? How could you tell? I would imagine that in this case it acutually takes fewer than 6 steps to connect any actors here. What is the fewest number of steps needed to connect all actors? "
   ]
  },
  {
   "cell_type": "code",
   "execution_count": 80,
   "metadata": {},
   "outputs": [],
   "source": [
    "def mat_mat(A,B):\n",
    "    #initializing the final matrix is a little more complicated \n",
    "    #the method below gives the number of rows from A and the \n",
    "    #number of columns from B\n",
    "    C = [[0 for i in range(len(B[0]))] for j in range(len(A))] \n",
    "    #Note that I am being lazy and not checking the shapes\n",
    "    for i in range(len(A)):\n",
    "        for j in range(len(B[0])):\n",
    "            for k in range(len(A[i])):\n",
    "                C[i][j] += A[i][k]*B[k][j]\n",
    "    return C  "
   ]
  },
  {
   "cell_type": "code",
   "execution_count": 82,
   "metadata": {},
   "outputs": [],
   "source": [
    "out1 = np.array(mat_mat(adj_mat,adj_mat))\n",
    "out2 = np.array(adj_mat)@np.array(adj_mat)"
   ]
  },
  {
   "cell_type": "code",
   "execution_count": 84,
   "metadata": {},
   "outputs": [
    {
     "data": {
      "text/plain": [
       "True"
      ]
     },
     "execution_count": 84,
     "metadata": {},
     "output_type": "execute_result"
    }
   ],
   "source": [
    "np.allclose(out1,out2) #return true if each element of the two arrays are close\n",
    "                       #close not equal because we want to ignore floating point errors"
   ]
  },
  {
   "cell_type": "code",
   "execution_count": 86,
   "metadata": {},
   "outputs": [],
   "source": [
    "powers = [adj_mat]\n",
    "for k in range(1,6):\n",
    "    powers.append(mat_mat(adj_mat,powers[k-1]))"
   ]
  },
  {
   "cell_type": "code",
   "execution_count": 106,
   "metadata": {},
   "outputs": [],
   "source": [
    "def check_connection(m):\n",
    "    connected = None\n",
    "    for i in range(len(m)):\n",
    "        if 0 in m[i]:\n",
    "            connected = False\n",
    "            break\n",
    "    \n",
    "    if connected:\n",
    "        print(\"Fully Connected\")\n",
    "    \n",
    "    else:\n",
    "        print(\"Not connected\")"
   ]
  },
  {
   "cell_type": "code",
   "execution_count": 107,
   "metadata": {},
   "outputs": [
    {
     "name": "stdout",
     "output_type": "stream",
     "text": [
      "Not connected\n"
     ]
    }
   ],
   "source": [
    "check_connection(powers[-1])"
   ]
  },
  {
   "cell_type": "code",
   "execution_count": 89,
   "metadata": {},
   "outputs": [],
   "source": [
    "import matplotlib.pyplot as plt"
   ]
  },
  {
   "cell_type": "code",
   "execution_count": 113,
   "metadata": {},
   "outputs": [
    {
     "data": {
      "image/png": "[encoded data removed]",
      "text/plain": [
       "<Figure size 432x288 with 1 Axes>"
      ]
     },
     "metadata": {
      "needs_background": "light"
     },
     "output_type": "display_data"
    }
   ],
   "source": [
    "plt.spy(powers[-1]) #The so called sparsity pattern\n",
    "plt.show()"
   ]
  },
  {
   "cell_type": "markdown",
   "metadata": {},
   "source": [
    "So I was totally wrong about the structure of these movies writh respect to six degrees of separation. The spiderman movies are not the lastest ones so they are an independent cluster. Finally, Ant Man was the last movie in this dataset and those actors didn't cross over with the other Marvel movies until later on.\n"
   ]
  },
  {
   "cell_type": "code",
   "execution_count": null,
   "metadata": {},
   "outputs": [],
   "source": []
  }
 ],
 "metadata": {
  "kernelspec": {
   "display_name": "Python 3",
   "language": "python",
   "name": "python3"
  },
  "language_info": {
   "codemirror_mode": {
    "name": "ipython",
    "version": 3
   },
   "file_extension": ".py",
   "mimetype": "text/x-python",
   "name": "python",
   "nbconvert_exporter": "python",
   "pygments_lexer": "ipython3",
   "version": "3.7.4"
  }
 },
 "nbformat": 4,
 "nbformat_minor": 4
}
