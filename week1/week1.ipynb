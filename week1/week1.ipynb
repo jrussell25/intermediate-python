{
 "cells": [
  {
   "cell_type": "markdown",
   "metadata": {},
   "source": [
    "# QBio REU Intermediate Python \n",
    "## Week 1: Review of Python Basics \n",
    "\n",
    "Prepared by John Russell (johnrussell@g.harvard.edu)\n",
    "\n",
    "June 2020"
   ]
  },
  {
   "cell_type": "markdown",
   "metadata": {},
   "source": [
    "This tutorial will guide you through the basics of Python. For now, scroll through the cells and run them(`shift+enter`) to see what they each do. Feel free to modify or add to them by double clicking in a cell.\n",
    "\n",
    "[Jake Vanderplas ](https://jakevdp.github.io/) runs a great blog exploring scientific computing in Python. He has also written a free book that goes into more detail on the topics introduced in this section. [Whirlwind tour of python](https://jakevdp.github.io/WhirlwindTourOfPython)"
   ]
  },
  {
   "cell_type": "markdown",
   "metadata": {},
   "source": [
    "### Installing some stuff and getting familiar with anaconda\n",
    "\n",
    "If you're on Mac/Linux open Terminal and if you're on Windows open Anaconda Prompt.\n",
    "\n",
    "Type the following stuff into the prompt. Press enter after each line\n",
    "\n",
    "`conda create -n reu python=3`\n",
    "\n",
    "`conda activate reu`\n",
    "\n",
    "`conda install -c conda-forge jupyter pandas matplotlib`\n",
    "\n",
    "`conda install -c conda-forge scipy=1.5`"
   ]
  },
  {
   "cell_type": "markdown",
   "metadata": {},
   "source": [
    "### Hello World"
   ]
  },
  {
   "cell_type": "code",
   "execution_count": 31,
   "metadata": {},
   "outputs": [
    {
     "name": "stdout",
     "output_type": "stream",
     "text": [
      "Hello World\n"
     ]
    }
   ],
   "source": [
    "print(\"Hello World\")"
   ]
  },
  {
   "cell_type": "markdown",
   "metadata": {},
   "source": [
    "This is very simple but print statements are key for debugging."
   ]
  },
  {
   "cell_type": "markdown",
   "metadata": {},
   "source": [
    "### Variables"
   ]
  },
  {
   "cell_type": "markdown",
   "metadata": {},
   "source": [
    "Much like in algebra, python allows us to assign values to particular symbols and refer to them later. We can also build up new variables by carrying out operations on existing variable. Unlike algebra, however, the values we associate with a variable do not need to be numbers."
   ]
  },
  {
   "cell_type": "code",
   "execution_count": 33,
   "metadata": {},
   "outputs": [
    {
     "data": {
      "text/plain": [
       "39"
      ]
     },
     "execution_count": 33,
     "metadata": {},
     "output_type": "execute_result"
    }
   ],
   "source": [
    "3*13"
   ]
  },
  {
   "cell_type": "code",
   "execution_count": 34,
   "metadata": {},
   "outputs": [],
   "source": [
    "x = 7\n",
    "y = 11\n",
    "z = x+y\n",
    "a = \"Look! A String!\""
   ]
  },
  {
   "cell_type": "code",
   "execution_count": 35,
   "metadata": {},
   "outputs": [
    {
     "name": "stdout",
     "output_type": "stream",
     "text": [
      "7\n",
      "11\n",
      "18\n",
      "Look! A String!\n"
     ]
    }
   ],
   "source": [
    "print(x)\n",
    "print(y)\n",
    "print(z)\n",
    "print(a)"
   ]
  },
  {
   "cell_type": "code",
   "execution_count": 37,
   "metadata": {},
   "outputs": [
    {
     "name": "stdout",
     "output_type": "stream",
     "text": [
      "the value of x+z is 25\n"
     ]
    }
   ],
   "source": [
    "print(f\"the value of x+z is {x+z}\")"
   ]
  },
  {
   "cell_type": "markdown",
   "metadata": {},
   "source": [
    "### Arithmetic and Comparison\n"
   ]
  },
  {
   "cell_type": "markdown",
   "metadata": {},
   "source": [
    "$2 \\left(x-3\\right)+\\frac{7y}{2}$"
   ]
  },
  {
   "cell_type": "code",
   "execution_count": 38,
   "metadata": {},
   "outputs": [
    {
     "data": {
      "text/plain": [
       "46.5"
      ]
     },
     "execution_count": 38,
     "metadata": {},
     "output_type": "execute_result"
    }
   ],
   "source": [
    "2*(x-3) + 7*y/2"
   ]
  },
  {
   "cell_type": "markdown",
   "metadata": {},
   "source": [
    "$x^3 - 5x^2 -10x +1$"
   ]
  },
  {
   "cell_type": "code",
   "execution_count": 39,
   "metadata": {},
   "outputs": [
    {
     "data": {
      "text/plain": [
       "29"
      ]
     },
     "execution_count": 39,
     "metadata": {},
     "output_type": "execute_result"
    }
   ],
   "source": [
    "x**3 - 5*x**2 - 10*x + 1"
   ]
  },
  {
   "cell_type": "markdown",
   "metadata": {},
   "source": [
    "#### Equals"
   ]
  },
  {
   "cell_type": "code",
   "execution_count": 40,
   "metadata": {},
   "outputs": [
    {
     "data": {
      "text/plain": [
       "False"
      ]
     },
     "execution_count": 40,
     "metadata": {},
     "output_type": "execute_result"
    }
   ],
   "source": [
    "x == y"
   ]
  },
  {
   "cell_type": "markdown",
   "metadata": {},
   "source": [
    "#### Not Equals"
   ]
  },
  {
   "cell_type": "code",
   "execution_count": 41,
   "metadata": {},
   "outputs": [
    {
     "data": {
      "text/plain": [
       "True"
      ]
     },
     "execution_count": 41,
     "metadata": {},
     "output_type": "execute_result"
    }
   ],
   "source": [
    "x != y"
   ]
  },
  {
   "cell_type": "markdown",
   "metadata": {},
   "source": [
    "#### Multiple Comparisons"
   ]
  },
  {
   "cell_type": "code",
   "execution_count": 42,
   "metadata": {},
   "outputs": [
    {
     "data": {
      "text/plain": [
       "False"
      ]
     },
     "execution_count": 42,
     "metadata": {},
     "output_type": "execute_result"
    }
   ],
   "source": [
    "x>3 and y<=10"
   ]
  },
  {
   "cell_type": "code",
   "execution_count": 43,
   "metadata": {},
   "outputs": [
    {
     "data": {
      "text/plain": [
       "True"
      ]
     },
     "execution_count": 43,
     "metadata": {},
     "output_type": "execute_result"
    }
   ],
   "source": [
    "x>3 or y<10"
   ]
  },
  {
   "cell_type": "code",
   "execution_count": 44,
   "metadata": {},
   "outputs": [
    {
     "data": {
      "text/plain": [
       "True"
      ]
     },
     "execution_count": 44,
     "metadata": {},
     "output_type": "execute_result"
    }
   ],
   "source": [
    "10 < y < 20"
   ]
  },
  {
   "cell_type": "markdown",
   "metadata": {},
   "source": [
    "Modular division"
   ]
  },
  {
   "cell_type": "code",
   "execution_count": 45,
   "metadata": {},
   "outputs": [
    {
     "data": {
      "text/plain": [
       "4"
      ]
     },
     "execution_count": 45,
     "metadata": {},
     "output_type": "execute_result"
    }
   ],
   "source": [
    "y%x"
   ]
  },
  {
   "cell_type": "markdown",
   "metadata": {},
   "source": [
    "### Lists\n",
    "\n",
    "Sometimes you dont want to create a variable for every number or string you have, especially if all the values are related in some way. To make this more convenient, we can store values in a list. Lists are initialized by square brackets surrounding comma separated values."
   ]
  },
  {
   "cell_type": "code",
   "execution_count": 46,
   "metadata": {},
   "outputs": [],
   "source": [
    "my_list = [12, 6, 21]"
   ]
  },
  {
   "cell_type": "markdown",
   "metadata": {},
   "source": [
    "Lists are mutable which in this case means we can `append` new items to them."
   ]
  },
  {
   "cell_type": "code",
   "execution_count": 47,
   "metadata": {},
   "outputs": [
    {
     "name": "stdout",
     "output_type": "stream",
     "text": [
      "[12, 6, 21, 8]\n"
     ]
    }
   ],
   "source": [
    "my_list.append(8)\n",
    "print(my_list)"
   ]
  },
  {
   "cell_type": "code",
   "execution_count": 48,
   "metadata": {},
   "outputs": [
    {
     "data": {
      "text/plain": [
       "4"
      ]
     },
     "execution_count": 48,
     "metadata": {},
     "output_type": "execute_result"
    }
   ],
   "source": [
    "len(my_list)"
   ]
  },
  {
   "cell_type": "markdown",
   "metadata": {},
   "source": [
    "Lists are ordered so we can *index* them. Python is zero-indexed so to get the first element we would call `my_list[0]`\n",
    "\n",
    "We can also change single elements in a list e.g. with `my_list[2] = 25`"
   ]
  },
  {
   "cell_type": "code",
   "execution_count": 49,
   "metadata": {},
   "outputs": [
    {
     "name": "stdout",
     "output_type": "stream",
     "text": [
      "12\n",
      "21\n",
      "8\n"
     ]
    }
   ],
   "source": [
    "print(my_list[0])\n",
    "print(my_list[2])\n",
    "print(my_list[-1])"
   ]
  },
  {
   "cell_type": "code",
   "execution_count": 50,
   "metadata": {},
   "outputs": [
    {
     "name": "stdout",
     "output_type": "stream",
     "text": [
      "[12, 6, 21, 8]\n"
     ]
    }
   ],
   "source": [
    "print(my_list)"
   ]
  },
  {
   "cell_type": "code",
   "execution_count": 51,
   "metadata": {},
   "outputs": [
    {
     "name": "stdout",
     "output_type": "stream",
     "text": [
      "[12, 6, 16, 8]\n"
     ]
    }
   ],
   "source": [
    "my_list[2] = 16\n",
    "print(my_list)"
   ]
  },
  {
   "cell_type": "code",
   "execution_count": 52,
   "metadata": {},
   "outputs": [],
   "source": [
    "my_list[1] = my_list[1]+2"
   ]
  },
  {
   "cell_type": "code",
   "execution_count": 53,
   "metadata": {},
   "outputs": [
    {
     "name": "stdout",
     "output_type": "stream",
     "text": [
      "[12, 8, 16, 8]\n"
     ]
    }
   ],
   "source": [
    "print(my_list)"
   ]
  },
  {
   "cell_type": "markdown",
   "metadata": {},
   "source": [
    "We can select portions of a list using slicing"
   ]
  },
  {
   "cell_type": "code",
   "execution_count": 54,
   "metadata": {},
   "outputs": [
    {
     "name": "stdout",
     "output_type": "stream",
     "text": [
      "[8, 16]\n",
      "[16, 8]\n",
      "[12, 8, 16]\n"
     ]
    }
   ],
   "source": [
    "print(my_list[1:3]) #includes the first element, excludes the last\n",
    "print(my_list[2:]) # from element 2 onwards\n",
    "print(my_list[:-1]) # from the beginning up to but not including the last element"
   ]
  },
  {
   "cell_type": "markdown",
   "metadata": {},
   "source": [
    "Lists can also contain strings or anything else. They can even contain multiple different types of things. In many ways this is really convenient, and is part of python's signature flexibility. It also makes lists slow."
   ]
  },
  {
   "cell_type": "code",
   "execution_count": 55,
   "metadata": {},
   "outputs": [],
   "source": [
    "names = [\"Timmy\", \"Tommy\", \"Tammy\"]\n",
    "misc_list = [14, \"James\", 1.635, [3,4,5]]"
   ]
  },
  {
   "cell_type": "markdown",
   "metadata": {},
   "source": [
    "Python makes it very easy to check whether items are in lists (and other data structures)"
   ]
  },
  {
   "cell_type": "code",
   "execution_count": 56,
   "metadata": {},
   "outputs": [
    {
     "data": {
      "text/plain": [
       "False"
      ]
     },
     "execution_count": 56,
     "metadata": {},
     "output_type": "execute_result"
    }
   ],
   "source": [
    "\"John\" in names"
   ]
  },
  {
   "cell_type": "code",
   "execution_count": 57,
   "metadata": {},
   "outputs": [
    {
     "data": {
      "text/plain": [
       "True"
      ]
     },
     "execution_count": 57,
     "metadata": {},
     "output_type": "execute_result"
    }
   ],
   "source": [
    "14 in misc_list"
   ]
  },
  {
   "cell_type": "markdown",
   "metadata": {},
   "source": [
    "Most importantly, we can create lists of lists, or lists of lists of lists, and so on."
   ]
  },
  {
   "cell_type": "code",
   "execution_count": 58,
   "metadata": {},
   "outputs": [],
   "source": [
    "ptriples = [[3,4,5],[5,12,13],[7,24,25],[8,15,17]]"
   ]
  },
  {
   "cell_type": "code",
   "execution_count": 59,
   "metadata": {},
   "outputs": [
    {
     "name": "stdout",
     "output_type": "stream",
     "text": [
      "[[3, 4, 5], [5, 12, 13], [7, 24, 25], [8, 15, 17]]\n"
     ]
    }
   ],
   "source": [
    "print(ptriples)"
   ]
  },
  {
   "cell_type": "code",
   "execution_count": 61,
   "metadata": {},
   "outputs": [
    {
     "data": {
      "text/plain": [
       "13"
      ]
     },
     "execution_count": 61,
     "metadata": {},
     "output_type": "execute_result"
    }
   ],
   "source": [
    "ptriples[1][-1]"
   ]
  },
  {
   "cell_type": "code",
   "execution_count": 62,
   "metadata": {},
   "outputs": [
    {
     "data": {
      "text/plain": [
       "4"
      ]
     },
     "execution_count": 62,
     "metadata": {},
     "output_type": "execute_result"
    }
   ],
   "source": [
    "len(ptriples)"
   ]
  },
  {
   "cell_type": "code",
   "execution_count": 63,
   "metadata": {},
   "outputs": [
    {
     "data": {
      "text/plain": [
       "3"
      ]
     },
     "execution_count": 63,
     "metadata": {},
     "output_type": "execute_result"
    }
   ],
   "source": [
    "len(ptriples[0])"
   ]
  },
  {
   "cell_type": "markdown",
   "metadata": {},
   "source": [
    "This list of lists is naively how you would represent a matrix in python. We'll talk later about a better way."
   ]
  },
  {
   "cell_type": "markdown",
   "metadata": {},
   "source": [
    "### Loops"
   ]
  },
  {
   "cell_type": "markdown",
   "metadata": {},
   "source": [
    "Loops are way to do things many times over automatically. Most commonly used is the `for` loop."
   ]
  },
  {
   "cell_type": "code",
   "execution_count": 64,
   "metadata": {},
   "outputs": [
    {
     "name": "stdout",
     "output_type": "stream",
     "text": [
      "0\n",
      "1\n",
      "4\n",
      "9\n",
      "16\n"
     ]
    }
   ],
   "source": [
    "for i in range(5):\n",
    "    print(i**2)"
   ]
  },
  {
   "cell_type": "markdown",
   "metadata": {},
   "source": [
    "The loop above is executed for every `i` in the list [0,1,...4], or N times total. As long as we provide an iterable, i.e a list or an array to the for loop, we dont need to simple iterate of over all integers."
   ]
  },
  {
   "cell_type": "code",
   "execution_count": 65,
   "metadata": {},
   "outputs": [
    {
     "name": "stdout",
     "output_type": "stream",
     "text": [
      "n n^2\n",
      "3 9\n",
      "17 289\n",
      "42 1764\n",
      "111 12321\n",
      "138 19044\n"
     ]
    }
   ],
   "source": [
    "nums = [3,17,42,111,138]\n",
    "print(\"n\",\"n^2\")\n",
    "for n in nums: #Lists are \"iterable\" we can loop over them without indexing\n",
    "    print(n, n**2)"
   ]
  },
  {
   "cell_type": "code",
   "execution_count": 66,
   "metadata": {},
   "outputs": [
    {
     "name": "stdout",
     "output_type": "stream",
     "text": [
      "3 9\n",
      "17 289\n",
      "42 1764\n",
      "111 12321\n",
      "138 19044\n"
     ]
    }
   ],
   "source": [
    "for i in range(len(nums)):\n",
    "    print(nums[i], nums[i]**2)"
   ]
  },
  {
   "cell_type": "markdown",
   "metadata": {},
   "source": [
    "There are other sorts of loops by `for` is the most common by far and likely all you need for this course. Another very useful command is `enumerate` "
   ]
  },
  {
   "cell_type": "code",
   "execution_count": 67,
   "metadata": {},
   "outputs": [
    {
     "name": "stdout",
     "output_type": "stream",
     "text": [
      "0 Jim\n",
      "1 Bob\n",
      "2 Sue\n",
      "3 Ann\n"
     ]
    }
   ],
   "source": [
    "names = ['Jim',\"Bob\", \"Sue\", \"Ann\"]\n",
    "for i, name in enumerate(names):\n",
    "    print(i,name)"
   ]
  },
  {
   "cell_type": "markdown",
   "metadata": {},
   "source": [
    "So it counts your progress through the list and pulls the item from the list without your needing to index explicitly. "
   ]
  },
  {
   "cell_type": "code",
   "execution_count": 68,
   "metadata": {},
   "outputs": [
    {
     "data": {
      "text/plain": [
       "[[3, 4, 5], [5, 12, 13], [7, 24, 25], [8, 15, 17]]"
      ]
     },
     "execution_count": 68,
     "metadata": {},
     "output_type": "execute_result"
    }
   ],
   "source": [
    "ptriples"
   ]
  },
  {
   "cell_type": "code",
   "execution_count": 69,
   "metadata": {},
   "outputs": [
    {
     "name": "stdout",
     "output_type": "stream",
     "text": [
      "25 25\n",
      "169 169\n",
      "625 625\n",
      "289 289\n"
     ]
    }
   ],
   "source": [
    "#Looping over a 2D list\n",
    "for i in range(4):\n",
    "    squares = []\n",
    "    for j in range(3):\n",
    "        squares.append(ptriples[i][j]**2)\n",
    "    print (squares[0]+squares[1],squares[2])"
   ]
  },
  {
   "cell_type": "code",
   "execution_count": 71,
   "metadata": {},
   "outputs": [
    {
     "name": "stdout",
     "output_type": "stream",
     "text": [
      "0\n",
      "1\n",
      "2\n",
      "3\n",
      "4\n",
      "5\n",
      "6\n",
      "7\n",
      "8\n",
      "9\n"
     ]
    }
   ],
   "source": [
    "i = 0 \n",
    "while i**2 < 100:\n",
    "    print(i)\n",
    "    i += 1"
   ]
  },
  {
   "cell_type": "markdown",
   "metadata": {},
   "source": [
    "### Conditionals\n",
    "\n"
   ]
  },
  {
   "cell_type": "markdown",
   "metadata": {},
   "source": [
    "So far, we have just shown that python is a calculator, in fact it is capable of much more. A key to performing more complicated calculations is conditional statements."
   ]
  },
  {
   "cell_type": "code",
   "execution_count": 75,
   "metadata": {},
   "outputs": [
    {
     "name": "stdout",
     "output_type": "stream",
     "text": [
      "v equals ten\n"
     ]
    }
   ],
   "source": [
    "v = 10\n",
    "if v>10:\n",
    "    print(\"v is greater than ten\")\n",
    "elif v==10:\n",
    "    print(\"v equals ten\")\n",
    "else:\n",
    "    print(\"v is smaller than ten\")"
   ]
  },
  {
   "cell_type": "markdown",
   "metadata": {},
   "source": [
    "To see the other behavior of the `if` statement, change the value of `x` in cell 7. Below is an example of a slightly more complicated use of if statements."
   ]
  },
  {
   "cell_type": "code",
   "execution_count": 77,
   "metadata": {},
   "outputs": [
    {
     "name": "stdout",
     "output_type": "stream",
     "text": [
      "|w| is too large. Function not defined.\n"
     ]
    }
   ],
   "source": [
    "w = 3.5\n",
    "R = 3\n",
    "if w>= -R and w <= R:\n",
    "    print((R**2 - w**2)**0.5)\n",
    "else:\n",
    "    print (\"|w| is too large. Function not defined.\")"
   ]
  },
  {
   "cell_type": "markdown",
   "metadata": {},
   "source": [
    "A final example:"
   ]
  },
  {
   "cell_type": "code",
   "execution_count": 78,
   "metadata": {},
   "outputs": [
    {
     "name": "stdout",
     "output_type": "stream",
     "text": [
      "[3, 4, 5]\n",
      "[7, 24, 25]\n"
     ]
    }
   ],
   "source": [
    "for i, trip in enumerate(ptriples):\n",
    "    if i%2==0:\n",
    "        print(trip)"
   ]
  },
  {
   "cell_type": "code",
   "execution_count": 79,
   "metadata": {},
   "outputs": [
    {
     "name": "stdout",
     "output_type": "stream",
     "text": [
      "[3, 4, 5]\n",
      "[5, 12, 13]\n"
     ]
    }
   ],
   "source": [
    "for i, trip in enumerate(ptriples):\n",
    "    if 5 in trip:\n",
    "        print(trip)"
   ]
  },
  {
   "cell_type": "markdown",
   "metadata": {},
   "source": [
    "### Dictionaries\n",
    "\n",
    "\n",
    "Dictionaries are a different way of storing information. Instead of indexing them numerically each element contains a *key* and an associated *value*. We then lookup the key to get back its value. As an example, lets say we want to store some constants from physics. We could make the following dictionary"
   ]
  },
  {
   "cell_type": "code",
   "execution_count": 80,
   "metadata": {},
   "outputs": [],
   "source": [
    "physics_constants = {'c':3e8, 'g':9.8, 'e':1.6e-16, 'eps0':8.85e-12}"
   ]
  },
  {
   "cell_type": "markdown",
   "metadata": {},
   "source": [
    "Then to retrieve the value of the charge of a proton we would call"
   ]
  },
  {
   "cell_type": "code",
   "execution_count": 81,
   "metadata": {},
   "outputs": [
    {
     "data": {
      "text/plain": [
       "1.6e-16"
      ]
     },
     "execution_count": 81,
     "metadata": {},
     "output_type": "execute_result"
    }
   ],
   "source": [
    "physics_constants['e']"
   ]
  },
  {
   "cell_type": "markdown",
   "metadata": {},
   "source": [
    "We can add some more constants from quantum mechanics:"
   ]
  },
  {
   "cell_type": "code",
   "execution_count": 84,
   "metadata": {},
   "outputs": [
    {
     "name": "stdout",
     "output_type": "stream",
     "text": [
      "{'c': 299800000.0, 'g': 9.8, 'e': 1.6e-16, 'eps0': 8.85e-12, 'h': 6.626e-34, 'alpha': 0.0072992700729927005}\n"
     ]
    }
   ],
   "source": [
    "physics_constants['h'] = 6.626e-34\n",
    "physics_constants['alpha'] = 1./137\n",
    "print(physics_constants)"
   ]
  },
  {
   "cell_type": "code",
   "execution_count": 83,
   "metadata": {},
   "outputs": [],
   "source": [
    "physics_constants['c'] = 2.998e8"
   ]
  },
  {
   "cell_type": "markdown",
   "metadata": {},
   "source": [
    "The if you need to look up values based on keys a dictionary is the appropriate structure. It is faster to look things up in a dictionary that to find them in an array or list. Also keep in mind that the keys should be integers or strings but the values can be anything, numbers, strings, lists, arrays, even dictionaries."
   ]
  },
  {
   "cell_type": "code",
   "execution_count": 86,
   "metadata": {},
   "outputs": [
    {
     "name": "stdout",
     "output_type": "stream",
     "text": [
      "c 299800000.0\n",
      "g 9.8\n",
      "e 1.6e-16\n",
      "eps0 8.85e-12\n",
      "h 6.626e-34\n",
      "alpha 0.0072992700729927005\n"
     ]
    }
   ],
   "source": [
    "for k in physics_constants:\n",
    "    print(k, physics_constants[k])"
   ]
  },
  {
   "cell_type": "code",
   "execution_count": 87,
   "metadata": {},
   "outputs": [
    {
     "data": {
      "text/plain": [
       "6"
      ]
     },
     "execution_count": 87,
     "metadata": {},
     "output_type": "execute_result"
    }
   ],
   "source": [
    "len(physics_constants)"
   ]
  },
  {
   "cell_type": "markdown",
   "metadata": {},
   "source": [
    "### Functions\n",
    "\n",
    "In math we know that a function is roughly an object that takes a number or numbers in and spits out a different number or numbers. One such function is:\n",
    "\n",
    "$$f(x) = \\dfrac{x^3 - 2(x-3)^2}{1+x^2}$$ \n",
    "\n",
    "Python functions can act just like these mathetmatical functions. I'll define this one below."
   ]
  },
  {
   "cell_type": "code",
   "execution_count": 88,
   "metadata": {},
   "outputs": [],
   "source": [
    "def f(x): #def name_of_function(argument):\n",
    "    #Indent once - write as many lines as you want\n",
    "    num = x**3 - 2*(x-3)**2\n",
    "    denom = 1+x**2\n",
    "    return num/denom #return function_output"
   ]
  },
  {
   "cell_type": "code",
   "execution_count": 97,
   "metadata": {},
   "outputs": [],
   "source": [
    "def g(x,y,z):\n",
    "    return 3*x+2*y-z"
   ]
  },
  {
   "cell_type": "code",
   "execution_count": 99,
   "metadata": {},
   "outputs": [
    {
     "data": {
      "text/plain": [
       "-1"
      ]
     },
     "execution_count": 99,
     "metadata": {},
     "output_type": "execute_result"
    }
   ],
   "source": [
    "g(0,2,5)"
   ]
  },
  {
   "cell_type": "code",
   "execution_count": 89,
   "metadata": {},
   "outputs": [
    {
     "data": {
      "text/plain": [
       "-18.0"
      ]
     },
     "execution_count": 89,
     "metadata": {},
     "output_type": "execute_result"
    }
   ],
   "source": [
    "f(0)"
   ]
  },
  {
   "cell_type": "code",
   "execution_count": 90,
   "metadata": {},
   "outputs": [
    {
     "data": {
      "text/plain": [
       "4.694753164579285"
      ]
     },
     "execution_count": 90,
     "metadata": {},
     "output_type": "execute_result"
    }
   ],
   "source": [
    "f(5.23)"
   ]
  },
  {
   "cell_type": "code",
   "execution_count": 93,
   "metadata": {},
   "outputs": [
    {
     "data": {
      "text/plain": [
       "6.22"
      ]
     },
     "execution_count": 93,
     "metadata": {},
     "output_type": "execute_result"
    }
   ],
   "source": [
    "f(x)"
   ]
  },
  {
   "cell_type": "markdown",
   "metadata": {},
   "source": [
    "Python functions, in many ways, are more general than mathematical functions. For one, they can take any python object or combination of objects as input and return any python object(s). Lets make such a function now. The function below takes a list of strings and returns the longest one."
   ]
  },
  {
   "cell_type": "code",
   "execution_count": 94,
   "metadata": {},
   "outputs": [],
   "source": [
    "def longest_word(word_list):\n",
    "    longest = '' #empy string can be a useful thing\n",
    "    for word in word_list:\n",
    "        if len(word)>len(longest):\n",
    "            longest = word\n",
    "    return longest"
   ]
  },
  {
   "cell_type": "code",
   "execution_count": 95,
   "metadata": {},
   "outputs": [],
   "source": [
    "my_words = [\"screen\", 'phone', 'keyboard']"
   ]
  },
  {
   "cell_type": "code",
   "execution_count": 96,
   "metadata": {},
   "outputs": [
    {
     "data": {
      "text/plain": [
       "'keyboard'"
      ]
     },
     "execution_count": 96,
     "metadata": {},
     "output_type": "execute_result"
    }
   ],
   "source": [
    "longest_word(my_words)"
   ]
  },
  {
   "cell_type": "markdown",
   "metadata": {},
   "source": [
    "To retiterate: the key parts of a function definition are:\n",
    "- `def` statement\n",
    "- function name\n",
    "- arguments\n",
    "- indentation\n",
    "- return\n",
    "\n",
    "Finally, I'd emphasize that if you find yourself copying code more than three times, you should turn that "
   ]
  },
  {
   "cell_type": "markdown",
   "metadata": {},
   "source": [
    "## Fixing errors\n",
    "No matter how skilled you are at programming you will inevitably make mistakes in your code. Here we discuss a few common mistakes and how to identify and fix them."
   ]
  },
  {
   "cell_type": "code",
   "execution_count": 101,
   "metadata": {},
   "outputs": [
    {
     "data": {
      "text/plain": [
       "[3, 4, 16, 23]"
      ]
     },
     "execution_count": 101,
     "metadata": {},
     "output_type": "execute_result"
    }
   ],
   "source": [
    "L"
   ]
  },
  {
   "cell_type": "code",
   "execution_count": 103,
   "metadata": {},
   "outputs": [
    {
     "data": {
      "text/plain": [
       "23"
      ]
     },
     "execution_count": 103,
     "metadata": {},
     "output_type": "execute_result"
    }
   ],
   "source": [
    "L = [3,4,16,23]\n",
    "L[-1]"
   ]
  },
  {
   "cell_type": "code",
   "execution_count": 105,
   "metadata": {},
   "outputs": [
    {
     "name": "stdout",
     "output_type": "stream",
     "text": [
      "27\n",
      "62\n",
      "4070\n",
      "12127\n"
     ]
    }
   ],
   "source": [
    "for x in L:\n",
    "    print(x**3-2*(x-3))"
   ]
  },
  {
   "cell_type": "code",
   "execution_count": 109,
   "metadata": {},
   "outputs": [
    {
     "data": {
      "text/plain": [
       "[3, 7, 24, 25]"
      ]
     },
     "execution_count": 109,
     "metadata": {},
     "output_type": "execute_result"
    }
   ],
   "source": [
    "[3] + ptriples[2]"
   ]
  },
  {
   "cell_type": "code",
   "execution_count": 112,
   "metadata": {},
   "outputs": [
    {
     "data": {
      "text/plain": [
       "13"
      ]
     },
     "execution_count": 112,
     "metadata": {},
     "output_type": "execute_result"
    }
   ],
   "source": [
    "ptriples[1][2]"
   ]
  },
  {
   "cell_type": "markdown",
   "metadata": {},
   "source": [
    "### Jupyter Tips and Tricks"
   ]
  },
  {
   "cell_type": "markdown",
   "metadata": {},
   "source": [
    "Jupyter notebooks have become the go to environment for writing python code for data scientists (and subsequently for courses). They allow you to nicely present your code alongside descriptions and discussions. The cells that contain text are written in Markdown. If you double click on any of the Markdown cells in this notebook, you can see some of the basic commands. A straightforward guide to using Markdown can be found [here](https://github.com/adam-p/markdown-here/wiki/Markdown-Cheatsheet). If you want to learn some fancier tricks and get introduced to some handy keyboard shortcuts, check out [this article](https://www.dataquest.io/blog/jupyter-notebook-tips-tricks-shortcuts/)."
   ]
  },
  {
   "cell_type": "markdown",
   "metadata": {},
   "source": [
    "A few important shortcuts: \n",
    "- `esc + m` turns a code cell into a Markdown cell and `esc + y` turns a Markdown cell into a code cell. \n",
    "- To insert a new cell above the current one, press `esc + a`. To insert below, `esc + b`. \n",
    "- To delete a cell press `esc + d + d`. \n",
    "- If you are running a cell and want it to stop, press `esc + i + i`. "
   ]
  },
  {
   "cell_type": "markdown",
   "metadata": {
    "slideshow": {
     "slide_type": "-"
    }
   },
   "source": [
    "A great feature of Markdown is that it can typeset $\\LaTeX$ the standard typesetting software for math and science. Latex has its own syntax that you can google about but the basic idea is this: putting markdown in between two `$`s tells Markdown to render in Latex.\n",
    "\n",
    "` $ \\int_{-\\infty}^\\infty e^{-x^2} dx = \\sqrt{\\pi}$`\n",
    "\n",
    "Will appear as\n",
    "\n",
    "$ \\int_{-\\infty}^\\infty e^{-x^2} dx = \\sqrt{\\pi}$\n",
    "\n",
    "Using `$$` renders in \"display mode\", i.e. centered and slightly larger.\n",
    "\n",
    "$$ \\int_{-\\infty}^\\infty e^{-x^2} dx = \\sqrt{\\pi}$$\n",
    "\n",
    "\n",
    "There is lots to be done in Jupyter but for now, just consider using the different headers to label your work and including a cell after a problem to discuss the results if that is required.\n",
    "\n",
    "Depending on the exact nature of your research, using notebooks in this way can be very helpful for you and for people who want to look at your work. "
   ]
  },
  {
   "cell_type": "markdown",
   "metadata": {},
   "source": [
    "## For next week.\n",
    "\n",
    "- Give the exercises a shot.\n",
    "- If you want to prepare take a look at the [Intro to numpy](https://jakevdp.github.io/PythonDataScienceHandbook/02.00-introduction-to-numpy.html) from the Python data science handbook. We will go through pretty much everything covered there next week.\n",
    "- You could also take a look at the first two sections of the [Intro to Matplotlib](https://jakevdp.github.io/PythonDataScienceHandbook/04.00-introduction-to-matplotlib.html) which we will begin to cover next week but may be helpful for your research in the meantime."
   ]
  },
  {
   "cell_type": "code",
   "execution_count": null,
   "metadata": {},
   "outputs": [],
   "source": []
  }
 ],
 "metadata": {
  "kernelspec": {
   "display_name": "Python 3",
   "language": "python",
   "name": "python3"
  },
  "language_info": {
   "codemirror_mode": {
    "name": "ipython",
    "version": 3
   },
   "file_extension": ".py",
   "mimetype": "text/x-python",
   "name": "python",
   "nbconvert_exporter": "python",
   "pygments_lexer": "ipython3",
   "version": "3.7.4"
  }
 },
 "nbformat": 4,
 "nbformat_minor": 4
}
